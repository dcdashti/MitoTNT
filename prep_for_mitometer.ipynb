{
 "cells": [
  {
   "cell_type": "code",
   "execution_count": 2,
   "id": "e9192348",
   "metadata": {},
   "outputs": [],
   "source": [
    "import numpy as np\n",
    "import matplotlib.pyplot as plt\n",
    "import os\n",
    "from skimage.io import imread, imsave"
   ]
  },
  {
   "cell_type": "code",
   "execution_count": 4,
   "id": "200ee38a",
   "metadata": {},
   "outputs": [],
   "source": [
    "TIF_DIR = \"M:/MITO_DATA/zeiss_lls7/Python/complete/DMSO control 2color 15x650 LBF 8ms 0_3space - 02_decon/CELL_7/all_tif\""
   ]
  },
  {
   "cell_type": "code",
   "execution_count": 17,
   "id": "9a2dff71",
   "metadata": {},
   "outputs": [],
   "source": [
    "combined = []\n",
    "for i in range(93):\n",
    "    frame = imread(TIF_DIR+\"/FRAME_\"+str(i)+\".tif\")\n",
    "    if i == 0:\n",
    "        combined = frame[np.newaxis]\n",
    "    else:\n",
    "        combined = np.concatenate([combined, frame[np.newaxis]])"
   ]
  },
  {
   "cell_type": "code",
   "execution_count": 19,
   "id": "d73fb387",
   "metadata": {},
   "outputs": [
    {
     "data": {
      "text/plain": [
       "(93, 49, 171, 332)"
      ]
     },
     "execution_count": 19,
     "metadata": {},
     "output_type": "execute_result"
    }
   ],
   "source": [
    "combined.shape"
   ]
  },
  {
   "cell_type": "code",
   "execution_count": 20,
   "id": "d801140a",
   "metadata": {},
   "outputs": [],
   "source": [
    "# combined = np.moveaxis(combined, 0, 1)\n",
    "# combined.shape"
   ]
  },
  {
   "cell_type": "code",
   "execution_count": 21,
   "id": "4f3f1e25",
   "metadata": {},
   "outputs": [
    {
     "name": "stderr",
     "output_type": "stream",
     "text": [
      "C:\\Users\\ZACHAR~1\\AppData\\Local\\Temp/ipykernel_2024/1053441625.py:1: UserWarning: M:/MITO_DATA/zeiss_lls7/Python/complete/DMSO control 2color 15x650 LBF 8ms 0_3space - 02_decon/CELL_7/all_tif/mitometer_input.tif is a low contrast image\n",
      "  imsave(TIF_DIR+\"/mitometer_input.tif\", combined)\n"
     ]
    }
   ],
   "source": [
    "imsave(TIF_DIR+\"/mitometer_input.tif\", combined)"
   ]
  },
  {
   "cell_type": "code",
   "execution_count": 5,
   "id": "879dcc03",
   "metadata": {},
   "outputs": [],
   "source": [
    "segmented = imread(TIF_DIR+\"/mitometer_segmented.tif\")"
   ]
  },
  {
   "cell_type": "code",
   "execution_count": 6,
   "id": "905980e2",
   "metadata": {},
   "outputs": [
    {
     "data": {
      "text/plain": [
       "(4557, 171, 332)"
      ]
     },
     "execution_count": 6,
     "metadata": {},
     "output_type": "execute_result"
    }
   ],
   "source": [
    "segmented.shape"
   ]
  }
 ],
 "metadata": {
  "kernelspec": {
   "display_name": "Python 3 (ipykernel)",
   "language": "python",
   "name": "python3"
  },
  "language_info": {
   "codemirror_mode": {
    "name": "ipython",
    "version": 3
   },
   "file_extension": ".py",
   "mimetype": "text/x-python",
   "name": "python",
   "nbconvert_exporter": "python",
   "pygments_lexer": "ipython3",
   "version": "3.8.11"
  }
 },
 "nbformat": 4,
 "nbformat_minor": 5
}
