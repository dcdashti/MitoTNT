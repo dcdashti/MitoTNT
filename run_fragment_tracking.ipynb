{
 "cells": [
  {
   "cell_type": "code",
   "execution_count": null,
   "metadata": {},
   "outputs": [],
   "source": [
    "from mitotnt.load_graph import *\n",
    "from mitotnt.fragment_tracking import *\n",
    "from collections import defaultdict\n",
    "import matplotlib.font_manager as font_manager\n",
    "from matplotlib import rcParams\n",
    "import glob\n",
    "from mayavi import mlab\n",
    "from ipywidgets import *\n",
    "mlab.options.offscreen = True\n",
    "plt.rcParams['figure.figsize'] = [20, 30]\n",
    "mlab.init_notebook(backend='png')"
   ]
  },
  {
   "cell_type": "code",
   "execution_count": null,
   "metadata": {},
   "outputs": [],
   "source": [
    "#### update functions everytime after changes made\n",
    "%load_ext autoreload\n",
    "%autoreload 2"
   ]
  },
  {
   "cell_type": "code",
   "execution_count": null,
   "metadata": {},
   "outputs": [],
   "source": [
    "# Set data paths\n",
    "rootpath = 'D:/Python Scripts/Mito/MitoTNT/MitoTNT/test_data/tracking_outputs/final_node_tracks.csv'\n",
    "savepath = 'D:/Python Scripts/Mito/MitoTNT/MitoTNT/test_data/post_analysis/frag_tracking/'\n",
    "\n",
    "# reachability_dict = defaultdict(lambda : defaultdict(list))\n",
    "# reachability_list = [[], [], []]\n",
    "# reachability_ratio_dict = defaultdict(list)\n",
    "\n",
    "# reachabilityArray = []\n",
    "# IntersectionArray = []\n",
    "# EuclideanArray = []"
   ]
  },
  {
   "cell_type": "code",
   "execution_count": null,
   "metadata": {},
   "outputs": [],
   "source": [
    "plotSnapshot(rootpath, start_frame=20, timesteps=20, delta=1,\n",
    "             scale=0.3, frag_range=range(0, 100),\n",
    "             plot_metrics=False, savepath=savepath, mode='cumulative', view_params=(60, -40, 50))\n",
    "plt.show()"
   ]
  },
  {
   "cell_type": "code",
   "execution_count": null,
   "metadata": {},
   "outputs": [],
   "source": [
    "# %matplotlib notebook\n",
    "start_frame=0\n",
    "timesteps=5\n",
    "delta=2\n",
    "\n",
    "plotCascade(rootpath, start_frame=start_frame, timesteps=timesteps, delta=delta,\n",
    "            scale=0.35, frag_range=range(0, 100),\n",
    "            plot_metrics=False, savepath=savepath, mode='cumulative', view_params=(60, -40, 50))\n",
    "\n",
    "fig = plt.figure(figsize=(9, 6))\n",
    "\n",
    "@interact(frame=(start_frame, timesteps-1))\n",
    "def update(frame=start_frame):\n",
    "    image = plt.imread(savepath+'frame_{}.png'.format(frame))\n",
    "    plt.imshow(image)\n",
    "    fig.canvas.draw()"
   ]
  }
 ],
 "metadata": {
  "kernelspec": {
   "display_name": "Python 3 (ipykernel)",
   "language": "python",
   "name": "python3"
  },
  "language_info": {
   "codemirror_mode": {
    "name": "ipython",
    "version": 3
   },
   "file_extension": ".py",
   "mimetype": "text/x-python",
   "name": "python",
   "nbconvert_exporter": "python",
   "pygments_lexer": "ipython3",
   "version": "3.8.11"
  }
 },
 "nbformat": 4,
 "nbformat_minor": 4
}
