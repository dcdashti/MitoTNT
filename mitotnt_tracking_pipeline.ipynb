{
 "cells": [
  {
   "cell_type": "markdown",
   "id": "3618984f",
   "metadata": {},
   "source": [
    "# MitoTNT: Mitochondrial Temporal Network Tracking\n",
    "\n",
    "**MitoTNT** is a Python-based pipeline for the tracking, visualization, and dynamic analysis of 4D mitochondrial network data.\n",
    "\n",
    "It is built upon mitochondria segmentation provided by MitoGraph, and visualization engine provided by ChimeraX.  \n",
    "\n",
    "MitoTNT is written by Zichen (Zachary) Wang (ziw056@ucsd.edu), with the help from people in the [Johannes Schöneberg lab](https://www.schoeneberglab.org/) at UCSD.\n"
   ]
  },
  {
   "cell_type": "markdown",
   "id": "b2218f78",
   "metadata": {},
   "source": [
    "# Installation\n",
    "\n",
    "Software requirements:\n",
    "- **[Jupyter Notebook](https://jupyter.org/)** or get it from **[Anaconda](https://www.anaconda.com/products/distribution)**\n",
    "\n",
    "- **[MitoGraph](https://github.com/vianamp/MitoGraph/)** for mitochondria segmentation\n",
    "\n",
    "- **[ChimeraX](https://www.cgl.ucsf.edu/chimerax/)** for tracking visualization\n",
    "\n",
    "The following python packages are needed:\n",
    "\n",
    "- **numpy**\n",
    "\n",
    "- **scipy**\n",
    "\n",
    "- **pandas**\n",
    "\n",
    "- **igraph**\n",
    "\n",
    "- **fastdist**\n",
    "\n",
    "To install all packages, open command line and go to the root directory of MitoTNT:  \n",
    "\n",
    "``\n",
    "pip install -r python_dependencies.txt\n",
    "``\n"
   ]
  },
  {
   "cell_type": "code",
   "execution_count": 1,
   "id": "b671ef9b",
   "metadata": {},
   "outputs": [],
   "source": [
    "import os\n",
    "import numpy as np\n",
    "import pandas as pd\n",
    "import igraph as ig\n",
    "from tqdm.notebook import trange\n",
    "from mitotnt import generate_tracking_inputs, network_tracking, tracking_visualization, detect_fusion_fission, post_analysis\n",
    "\n",
    "# update functions everytime after changes made\n",
    "%load_ext autoreload\n",
    "%autoreload 2"
   ]
  },
  {
   "cell_type": "markdown",
   "id": "1e2e687d",
   "metadata": {},
   "source": [
    "# Network Tracking\n",
    "## 1. Generate inputs for tracking\n",
    "**In this section we will process the raw data into a format that is used for the subsequent tracking.**\n",
    "\n",
    "First specify the directories we will use:\n",
    "- `work_dir`: the directory where data will be processed and stored. For test data, you can use the directory of `test_data` on your machine\n",
    "- `data_dir`: the directory where MitoGraph segmented mitochondria is stored. For test data, this is `test_data/mitograph`.\n",
    "- `input_dir`: the directory where the processed inputs used for tracking will be stored. For test data, you can use `test_data/tracking_inputs`. This is an empty folder that will be created.\n",
    "\n",
    "After specifying the folders, we need to set a few parameters:\n",
    "- `start_frame`, `end_frame`: the range of frames to process.\n",
    "- `frame_interval`: frame interval for the movie in seconds\n",
    "- `node_gap_size`: the number of nodes to skip when creating full-resolution graphs from mitograph `.gnet` files. Default to 0 (use all nodes).\n",
    "\n",
    "All processed inputs will be saved as a single compressed `.npz` file in `input_dir`."
   ]
  },
  {
   "cell_type": "code",
   "execution_count": 3,
   "id": "89c551bf",
   "metadata": {},
   "outputs": [
    {
     "name": "stdout",
     "output_type": "stream",
     "text": [
      "Tracking frame 0 to 20\n"
     ]
    }
   ],
   "source": [
    "# specify your desired directories (backslash in file directory in Windows needs to be converted to forward slash)\n",
    "work_dir = 'D:/Github/MitoTNT/test_data/'\n",
    "data_dir = work_dir+'mitograph/'\n",
    "input_dir = work_dir+'tracking_inputs/'\n",
    "if not os.path.isdir(input_dir):\n",
    "    os.mkdir(input_dir)\n",
    "\n",
    "# params for the test data\n",
    "start_frame = 0\n",
    "end_frame = 20\n",
    "frame_interval = 3.253\n",
    "\n",
    "print('Tracking frame {} to {}'.format(start_frame, end_frame))"
   ]
  },
  {
   "cell_type": "code",
   "execution_count": null,
   "id": "b0c5298e",
   "metadata": {
    "scrolled": true
   },
   "outputs": [],
   "source": [
    "# run the function\n",
    "generate_tracking_inputs.generate(data_dir, input_dir,\n",
    "                                  start_frame, end_frame,\n",
    "                                  node_gap_size=0)"
   ]
  },
  {
   "cell_type": "markdown",
   "id": "82b30af3",
   "metadata": {},
   "source": [
    "## 2. Frame-to-frame tracking\n",
    "**In this section we will perform node assignments for each consecutive frames.**\n",
    "\n",
    "In addition to the directories declared above, we will create `output_dir` to store the tracking outputs. For test data, you can use `test_data/tracking_outputs`.\n",
    "\n",
    "Additional parameters needed for frame-to-frame tracking:\n",
    "- `tracking_interval`: the frame interval between the two frames to be tracked. Default to 1 (every consecutive frame).  \n",
    "\n",
    "Distance threshold is computed as the minimum of two values: 1) the distance to the N-th closest neighbor where N is given by `cutoff_num_neighbor`, default to 10; 2) the frame interval times the maximum allowed speed given by `cutoff_speed`, default to `None` and estimated from the distance matrix.\n",
    "\n",
    "- `graph_matching_depth`: the maximum level used for graph comparison. Default to 2 (usually sufficient).\n",
    "- `dist_exponent`, `top_exponent`: the final cost term is given by D<sup>dist_exponent</sup> x T<sup>top_exponent</sup>, where D, T are the distance and topology costs respectively. Default both to 1 (equal weighting).\n"
   ]
  },
  {
   "cell_type": "code",
   "execution_count": 14,
   "id": "839c433c",
   "metadata": {},
   "outputs": [],
   "source": [
    "# specify additional directories\n",
    "output_dir = work_dir+'tracking_outputs/'\n",
    "if not os.path.isdir(output_dir):\n",
    "    os.mkdir(output_dir)\n",
    "    \n",
    "start_frame = 0\n",
    "end_frame = 20\n",
    "tracking_interval = 1"
   ]
  },
  {
   "cell_type": "code",
   "execution_count": 15,
   "id": "8f83e212",
   "metadata": {
    "scrolled": true
   },
   "outputs": [
    {
     "name": "stdout",
     "output_type": "stream",
     "text": [
      "Data loading ...\n",
      "\n"
     ]
    },
    {
     "data": {
      "application/vnd.jupyter.widget-view+json": {
       "model_id": "f104e41cf94f4f5083220124a2652271",
       "version_major": 2,
       "version_minor": 0
      },
      "text/plain": [
       "Tracking in progress:   0%|          | 0/20 [00:00<?, ?it/s]"
      ]
     },
     "metadata": {},
     "output_type": "display_data"
    },
    {
     "name": "stdout",
     "output_type": "stream",
     "text": [
      "\n",
      "Start tracking frame 0 and 1 ...\n",
      "Distance cost matrix takes 0.88 s\n",
      "Topology cost matrix takes 2.77 s\n",
      "Number of nodes at frame 0, 1 are 1539, 1743\n",
      "Number of nodes linked, terminated at frame 0: 1206, 333\n",
      "Number of nodes initiated at frame 1: 537\n",
      "Mean, std of distances for tracked nodes: 0.264843, 0.165531\n",
      "Average cost: 6.4\n",
      "Tracking is complete and takes 8.33 s\n",
      "\n",
      "\n",
      "Start tracking frame 1 and 2 ...\n",
      "Distance cost matrix takes 0.99 s\n",
      "Topology cost matrix takes 3.22 s\n",
      "Number of nodes at frame 1, 2 are 1743, 1714\n",
      "Number of nodes linked, terminated at frame 1: 1388, 355\n",
      "Number of nodes initiated at frame 2: 326\n",
      "Mean, std of distances for tracked nodes: 0.233727, 0.172812\n",
      "Average cost: 7.7\n",
      "Tracking is complete and takes 6.10 s\n",
      "\n",
      "\n",
      "Start tracking frame 2 and 3 ...\n",
      "Distance cost matrix takes 1.01 s\n",
      "Topology cost matrix takes 2.97 s\n",
      "Number of nodes at frame 2, 3 are 1714, 1766\n",
      "Number of nodes linked, terminated at frame 2: 1398, 316\n",
      "Number of nodes initiated at frame 3: 368\n",
      "Mean, std of distances for tracked nodes: 0.251465, 0.172276\n",
      "Average cost: 5.7\n",
      "Tracking is complete and takes 6.31 s\n",
      "\n",
      "\n",
      "Start tracking frame 3 and 4 ...\n",
      "Distance cost matrix takes 1.10 s\n",
      "Topology cost matrix takes 3.51 s\n",
      "Number of nodes at frame 3, 4 are 1766, 1749\n",
      "Number of nodes linked, terminated at frame 3: 1455, 311\n",
      "Number of nodes initiated at frame 4: 294\n",
      "Mean, std of distances for tracked nodes: 0.268627, 0.186931\n",
      "Average cost: 7.3\n",
      "Tracking is complete and takes 7.12 s\n",
      "\n",
      "\n",
      "Start tracking frame 4 and 5 ...\n",
      "Distance cost matrix takes 0.97 s\n",
      "Topology cost matrix takes 3.34 s\n",
      "Number of nodes at frame 4, 5 are 1749, 1709\n",
      "Number of nodes linked, terminated at frame 4: 1368, 381\n",
      "Number of nodes initiated at frame 5: 341\n",
      "Mean, std of distances for tracked nodes: 0.252258, 0.178616\n",
      "Average cost: 7.5\n",
      "Tracking is complete and takes 6.95 s\n",
      "\n",
      "\n",
      "Start tracking frame 5 and 6 ...\n",
      "Distance cost matrix takes 0.95 s\n",
      "Topology cost matrix takes 3.53 s\n",
      "Number of nodes at frame 5, 6 are 1709, 1734\n",
      "Number of nodes linked, terminated at frame 5: 1327, 382\n",
      "Number of nodes initiated at frame 6: 407\n",
      "Mean, std of distances for tracked nodes: 0.269826, 0.181539\n",
      "Average cost: 7.7\n",
      "Tracking is complete and takes 7.29 s\n",
      "\n",
      "\n",
      "Start tracking frame 6 and 7 ...\n",
      "Distance cost matrix takes 0.95 s\n",
      "Topology cost matrix takes 3.95 s\n",
      "Number of nodes at frame 6, 7 are 1734, 1712\n",
      "Number of nodes linked, terminated at frame 6: 1372, 362\n",
      "Number of nodes initiated at frame 7: 340\n",
      "Mean, std of distances for tracked nodes: 0.277986, 0.181584\n",
      "Average cost: 7.4\n",
      "Tracking is complete and takes 7.90 s\n",
      "\n",
      "\n",
      "Start tracking frame 7 and 8 ...\n",
      "Distance cost matrix takes 0.96 s\n",
      "Topology cost matrix takes 2.73 s\n",
      "Number of nodes at frame 7, 8 are 1712, 1721\n",
      "Number of nodes linked, terminated at frame 7: 1354, 358\n",
      "Number of nodes initiated at frame 8: 367\n",
      "Mean, std of distances for tracked nodes: 0.233588, 0.153540\n",
      "Average cost: 7.2\n",
      "Tracking is complete and takes 7.05 s\n",
      "\n",
      "\n",
      "Start tracking frame 8 and 9 ...\n",
      "Distance cost matrix takes 0.95 s\n",
      "Topology cost matrix takes 3.25 s\n",
      "Number of nodes at frame 8, 9 are 1721, 1703\n",
      "Number of nodes linked, terminated at frame 8: 1311, 410\n",
      "Number of nodes initiated at frame 9: 392\n",
      "Mean, std of distances for tracked nodes: 0.262143, 0.181862\n",
      "Average cost: 6.8\n",
      "Tracking is complete and takes 7.79 s\n",
      "\n",
      "\n",
      "Start tracking frame 9 and 10 ...\n",
      "Distance cost matrix takes 0.97 s\n",
      "Topology cost matrix takes 3.07 s\n",
      "Number of nodes at frame 9, 10 are 1703, 1719\n",
      "Number of nodes linked, terminated at frame 9: 1378, 325\n",
      "Number of nodes initiated at frame 10: 341\n",
      "Mean, std of distances for tracked nodes: 0.267025, 0.174915\n",
      "Average cost: 6.9\n",
      "Tracking is complete and takes 7.98 s\n",
      "\n",
      "\n",
      "Start tracking frame 10 and 11 ...\n",
      "Distance cost matrix takes 1.00 s\n",
      "Topology cost matrix takes 3.12 s\n",
      "Number of nodes at frame 10, 11 are 1719, 1723\n",
      "Number of nodes linked, terminated at frame 10: 1366, 353\n",
      "Number of nodes initiated at frame 11: 357\n",
      "Mean, std of distances for tracked nodes: 0.266097, 0.179672\n",
      "Average cost: 6.8\n",
      "Tracking is complete and takes 8.16 s\n",
      "\n",
      "\n",
      "Start tracking frame 11 and 12 ...\n",
      "Distance cost matrix takes 0.96 s\n",
      "Topology cost matrix takes 2.85 s\n",
      "Number of nodes at frame 11, 12 are 1723, 1699\n",
      "Number of nodes linked, terminated at frame 11: 1344, 379\n",
      "Number of nodes initiated at frame 12: 355\n",
      "Mean, std of distances for tracked nodes: 0.252669, 0.150058\n",
      "Average cost: 7.0\n",
      "Tracking is complete and takes 8.05 s\n",
      "\n",
      "\n",
      "Start tracking frame 12 and 13 ...\n",
      "Distance cost matrix takes 0.98 s\n",
      "Topology cost matrix takes 2.86 s\n",
      "Number of nodes at frame 12, 13 are 1699, 1692\n",
      "Number of nodes linked, terminated at frame 12: 1318, 381\n",
      "Number of nodes initiated at frame 13: 374\n",
      "Mean, std of distances for tracked nodes: 0.238846, 0.154704\n",
      "Average cost: 7.0\n",
      "Tracking is complete and takes 8.27 s\n",
      "\n",
      "\n",
      "Start tracking frame 13 and 14 ...\n",
      "Distance cost matrix takes 0.97 s\n",
      "Topology cost matrix takes 3.35 s\n",
      "Number of nodes at frame 13, 14 are 1692, 1679\n",
      "Number of nodes linked, terminated at frame 13: 1295, 397\n",
      "Number of nodes initiated at frame 14: 384\n",
      "Mean, std of distances for tracked nodes: 0.267577, 0.174425\n",
      "Average cost: 6.8\n",
      "Tracking is complete and takes 8.76 s\n",
      "\n",
      "\n",
      "Start tracking frame 14 and 15 ...\n",
      "Distance cost matrix takes 1.00 s\n",
      "Topology cost matrix takes 3.59 s\n",
      "Number of nodes at frame 14, 15 are 1679, 1734\n",
      "Number of nodes linked, terminated at frame 14: 1321, 358\n",
      "Number of nodes initiated at frame 15: 413\n",
      "Mean, std of distances for tracked nodes: 0.253459, 0.173100\n",
      "Average cost: 6.0\n",
      "Tracking is complete and takes 9.49 s\n",
      "\n",
      "\n",
      "Start tracking frame 15 and 16 ...\n",
      "Distance cost matrix takes 1.00 s\n",
      "Topology cost matrix takes 3.32 s\n",
      "Number of nodes at frame 15, 16 are 1734, 1741\n",
      "Number of nodes linked, terminated at frame 15: 1371, 363\n",
      "Number of nodes initiated at frame 16: 370\n",
      "Mean, std of distances for tracked nodes: 0.253491, 0.161676\n",
      "Average cost: 6.7\n",
      "Tracking is complete and takes 9.69 s\n",
      "\n",
      "\n",
      "Start tracking frame 16 and 17 ...\n",
      "Distance cost matrix takes 0.95 s\n",
      "Topology cost matrix takes 3.13 s\n",
      "Number of nodes at frame 16, 17 are 1741, 1708\n",
      "Number of nodes linked, terminated at frame 16: 1389, 352\n",
      "Number of nodes initiated at frame 17: 319\n",
      "Mean, std of distances for tracked nodes: 0.280374, 0.170806\n",
      "Average cost: 6.5\n",
      "Tracking is complete and takes 9.34 s\n",
      "\n",
      "\n",
      "Start tracking frame 17 and 18 ...\n",
      "Distance cost matrix takes 0.97 s\n",
      "Topology cost matrix takes 3.41 s\n",
      "Number of nodes at frame 17, 18 are 1708, 1733\n",
      "Number of nodes linked, terminated at frame 17: 1328, 380\n",
      "Number of nodes initiated at frame 18: 405\n",
      "Mean, std of distances for tracked nodes: 0.262145, 0.184311\n",
      "Average cost: 7.6\n",
      "Tracking is complete and takes 9.91 s\n",
      "\n",
      "\n",
      "Start tracking frame 18 and 19 ...\n",
      "Distance cost matrix takes 1.06 s\n",
      "Topology cost matrix takes 3.16 s\n",
      "Number of nodes at frame 18, 19 are 1733, 1736\n",
      "Number of nodes linked, terminated at frame 18: 1370, 363\n",
      "Number of nodes initiated at frame 19: 366\n",
      "Mean, std of distances for tracked nodes: 0.274327, 0.173179\n",
      "Average cost: 7.5\n",
      "Tracking is complete and takes 10.05 s\n",
      "\n",
      "\n",
      "Start tracking frame 19 and 20 ...\n",
      "Distance cost matrix takes 0.98 s\n",
      "Topology cost matrix takes 3.31 s\n",
      "Number of nodes at frame 19, 20 are 1736, 1727\n",
      "Number of nodes linked, terminated at frame 19: 1359, 377\n",
      "Number of nodes initiated at frame 20: 368\n",
      "Mean, std of distances for tracked nodes: 0.300634, 0.192810\n",
      "Average cost: 7.3\n",
      "Tracking is complete and takes 10.27 s\n",
      "\n"
     ]
    }
   ],
   "source": [
    "# run the function\n",
    "network_tracking.frametoframe_tracking(input_dir, output_dir, start_frame, end_frame, frame_interval, tracking_interval,\n",
    "                                       cutoff_num_neighbor=8, cutoff_speed=None,\n",
    "                                       graph_matching_depth=2, dist_exponent=1, top_exponent=1)"
   ]
  },
  {
   "cell_type": "markdown",
   "id": "d8e0cedf",
   "metadata": {},
   "source": [
    "## 3. Gap closing\n",
    "**In this section we attempt to merge tracks that are mistakenly terminated during frame-to-frame tracking.**\n",
    "\n",
    "Additional parameters need to be set:\n",
    "- `min_track_size`: the minimum number of frames for the tracks to be kept. Default to 5.\n",
    "- `max_gap_size`: the maximum number of frames for which gap closing is allowed. Default to 3. Value of 1 indicates no gap closing.\n",
    "- `block_size_factor`: values less than 1 allows the sliding block implementation of gap closing to prevent memory overflow due to large cost matrix. The size of the block is given by `block_size_factor` * total number of tracks to be closed. Default to 1 (close all tracks at once).\n",
    "\n",
    "The final node trajectories are saved in `final_node_tracks.csv` file.  \n",
    "Each row is one node at one time point.  \n",
    "Each column is an attribute of the given node, described below."
   ]
  },
  {
   "cell_type": "code",
   "execution_count": null,
   "id": "0323476c",
   "metadata": {
    "scrolled": false
   },
   "outputs": [],
   "source": [
    "network_tracking.gap_closing(input_dir, output_dir, start_frame, end_frame, tracking_interval,\n",
    "                             min_track_size=4, max_gap_size=3, block_size_factor=1)"
   ]
  },
  {
   "cell_type": "markdown",
   "id": "cd6e707d",
   "metadata": {},
   "source": [
    "## 4. Evaluate output\n",
    "\n",
    "The final node trajectories are saved in final_node_tracks.csv file.  \n",
    "Each row is one node at one time point.  \n",
    "Each column is an attribute of the given node, described below.  \n",
    "\n",
    "### Columns\n",
    "\n",
    "- `frame_id`: frame number of the node.\n",
    "- `frame_node_id`: node id at the given frame. Each frame has its own indexing.\n",
    "- `unique_node_id`: node id shared by all the nodes in the same track at different frames. Each track is uniquely indexed throughout the whole trajectory. This is essetially the tracking information.\n",
    "- `frame_seg_id`: segment id for all the nodes in the same segment. Each frame has its own indexing. The branching points are not assigned.\n",
    "- `frame_frag_id`: fragment id for all the nodes in the same connected component. Each frame has its own indexing.\n",
    "- `connected_unique_node_id`: unique_node_id for neigboring nodes in the graph. This has all the topology information.\n",
    "- `x`, `y`, `z`: coordinates for the node.\n",
    "- `intensity`, `width`: pixel intensity and tubular width for the node given by MitoGraph."
   ]
  },
  {
   "cell_type": "markdown",
   "id": "8c7d72ce",
   "metadata": {},
   "source": [
    "# Visualization\n",
    "**In this section we will visualize the tracked mitochondrial networks in ChimeraX**\n",
    "\n",
    "**Please first download [ChimeraX](https://www.cgl.ucsf.edu/chimerax/)**\n",
    "\n",
    "We need to specify the directory to save visualization files\n",
    "- `vis_dir`: store `.cxc` commands to load in ChimeraX. You can use `work_dir/chimerax_visualization/` for example.\n",
    "- `vis_data_dir`: store `.cmap ` and `.bild` files created for each frame and used for visualization. You can use `vis_dir/data/` for example."
   ]
  },
  {
   "cell_type": "code",
   "execution_count": 5,
   "id": "a7d51e1f",
   "metadata": {},
   "outputs": [],
   "source": [
    "# specify the directory for storing processed data\n",
    "vis_dir = work_dir+'chimerax_visualization/'\n",
    "vis_data_dir = vis_dir+'data/'\n",
    "if not os.path.isdir(vis_dir):\n",
    "    os.mkdir(vis_dir)\n",
    "if not os.path.isdir(vis_data_dir):\n",
    "    os.mkdir(vis_data_dir)\n",
    "\n",
    "# visualizing tracks can take some time, recommend to start with a few frames\n",
    "start_frame = 0\n",
    "end_frame = 5"
   ]
  },
  {
   "cell_type": "markdown",
   "id": "2fb02a3f",
   "metadata": {},
   "source": [
    "## 1. Transform .tif to match MitoGraph coordinates (optional)\n",
    "Because MitoGraph does coordinate transformation, original `.tif` files need to be transformed.\\\n",
    "This is only needed if you want to show fluorescence cloud when visualizing tracking.\n",
    "- `voxel_size`: provide the voxel_size same as inputs for MitoGraph segmentation, in the format of 'x_size,y_size,z_size'.  \n",
    "For example, `voxel_size='0.2,0.2,0.4'` refers to lateral pixel size 0.2 μm and axial pixel size 0.4 μm.\n",
    "\n",
    "**After the output generate_transformed_tif.cxc file is created, load it in ChimeraX to save the transformed images.**"
   ]
  },
  {
   "cell_type": "code",
   "execution_count": 6,
   "id": "85ce7a28",
   "metadata": {},
   "outputs": [
    {
     "name": "stdout",
     "output_type": "stream",
     "text": [
      "Load file D:/Github/MitoTNT/test_data/chimerax_visualization/generate_transformed_tif.cxc \n",
      "in ChimeraX to generate transformed tif files for proper visualization\n"
     ]
    }
   ],
   "source": [
    "tracking_visualization.generate_transformed_tif(data_dir, vis_dir, vis_data_dir,\n",
    "                                                start_frame, end_frame, tracking_interval, \n",
    "                                                voxel_size='0.145,0.145,0.145')"
   ]
  },
  {
   "cell_type": "markdown",
   "id": "649e998c",
   "metadata": {},
   "source": [
    "## 2. Create ChimeraX rendering of the skeleton (optional but recommended)\n",
    "We can use MitoGraph-generated `*skeleton.vtk` files for visualizing skeleton, but this is not ideal because it has fixed width and color.\\\n",
    "Alternatively here, we can render the skeleton using BILD format in ChimeraX. This allows us to set the skeleton sizes, node sizes and color. However, it also takes much longer to load in ChimeraX.\n",
    "- `skeleton_colors`: a list of two colors to render for current and next frames. We use blue for current frame and red for next frame. [See more colors.](https://www.cgl.ucsf.edu/chimerax/docs/user/commands/colornames.html)\n",
    "- `skeleton_size`: diameter of the skeleton that connects nodes.\n",
    "- `node_size`: diameter of the spheres that make up the nodes. If `node_size`= `skeleton_size`, the nodes are not visible (but still required to fill the gaps along the skeletons)."
   ]
  },
  {
   "cell_type": "code",
   "execution_count": 7,
   "id": "60cc9fd9",
   "metadata": {
    "scrolled": true
   },
   "outputs": [
    {
     "name": "stdout",
     "output_type": "stream",
     "text": [
      "Generate network skeleton in BILD format ...\n",
      "Color blue\n"
     ]
    },
    {
     "data": {
      "application/vnd.jupyter.widget-view+json": {
       "model_id": "a76f0aafea1246b39f32e8b3a79e1d78",
       "version_major": 2,
       "version_minor": 0
      },
      "text/plain": [
       "  0%|          | 0/6 [00:00<?, ?it/s]"
      ]
     },
     "metadata": {},
     "output_type": "display_data"
    },
    {
     "name": "stdout",
     "output_type": "stream",
     "text": [
      "Color red\n"
     ]
    },
    {
     "data": {
      "application/vnd.jupyter.widget-view+json": {
       "model_id": "e18ce76cb9b94e20973daa9d3981145e",
       "version_major": 2,
       "version_minor": 0
      },
      "text/plain": [
       "  0%|          | 0/6 [00:00<?, ?it/s]"
      ]
     },
     "metadata": {},
     "output_type": "display_data"
    },
    {
     "name": "stdout",
     "output_type": "stream",
     "text": [
      "Done\n"
     ]
    }
   ],
   "source": [
    "tracking_visualization.generate_chimerax_skeleton(input_dir, vis_dir, vis_data_dir,\n",
    "                                                  start_frame, end_frame, tracking_interval,\n",
    "                                                  skeleton_colors=['blue','red'],\n",
    "                                                  skeleton_size=0.035, node_size=0.035)"
   ]
  },
  {
   "cell_type": "markdown",
   "id": "283d9c05",
   "metadata": {},
   "source": [
    "## 3. Create ChimeraX rendering of tracking vectors\n",
    "We will use the frame-to-frame node assignments to draw the tracking vectors for two frames.\n",
    "- `arrow_color`: color of the tracking arrows. Default to black.\n",
    "- `arrow_size`: diameter of the tracking arrow stem."
   ]
  },
  {
   "cell_type": "code",
   "execution_count": 8,
   "id": "0bacbef0",
   "metadata": {},
   "outputs": [
    {
     "name": "stdout",
     "output_type": "stream",
     "text": [
      "Generate tracking arrows in BILD format ...\n"
     ]
    },
    {
     "data": {
      "application/vnd.jupyter.widget-view+json": {
       "model_id": "87ef647fbba641dda5e2625704161331",
       "version_major": 2,
       "version_minor": 0
      },
      "text/plain": [
       "  0%|          | 0/5 [00:00<?, ?it/s]"
      ]
     },
     "metadata": {},
     "output_type": "display_data"
    },
    {
     "name": "stdout",
     "output_type": "stream",
     "text": [
      "Done\n"
     ]
    }
   ],
   "source": [
    "tracking_visualization.generate_tracking_arrows(input_dir, output_dir, vis_data_dir, \n",
    "                                                start_frame, end_frame, tracking_interval,\n",
    "                                                arrow_color='black', arrow_size=0.035)"
   ]
  },
  {
   "cell_type": "markdown",
   "id": "11f9334d",
   "metadata": {},
   "source": [
    "## 4. Visualize network tracking in ChimeraX\n",
    "Now we can combine the visualization files created above to visualize the tracking of timelapse data.\n",
    "- `show_tif`: if true include fluorescence cloud in background. \n",
    "- `tif_colors`: color of fluorescence cloud. See [colors](https://www.cgl.ucsf.edu/chimerax/docs/user/commands/colornames.html).\n",
    "- `threshold_level`: if you want to change the contrast/thickness of the fluorescence cloud, use the [level argument](https://www.cgl.ucsf.edu/chimerax/docs/user/commands/volume.html) in ChimeraX.\n",
    "- `use_chimerax_skeleton`:\\\n",
    "if true use BILD format skeleton which is more flexible but slower to load;\\\n",
    "if false use mitograph-generated .vtk files of fixed color and size (not recommended but quicker).\n",
    "- `skeleton_colors`: same as in step 2.\n",
    "\n",
    "**Open chimerax_visualization/visualize_tracking.cxc in ChimeraX. This may take some time. Click Home -> Backgound -> White to see it better.**"
   ]
  },
  {
   "cell_type": "code",
   "execution_count": 9,
   "id": "eb4ba0e7",
   "metadata": {},
   "outputs": [
    {
     "name": "stdout",
     "output_type": "stream",
     "text": [
      "Load file D:/Github/MitoTNT/test_data/chimerax_visualization/visualize_tracking.cxc \n",
      "in ChimeraX to visualize tracking\n"
     ]
    }
   ],
   "source": [
    "tracking_visualization.visualize_tracking(data_dir, input_dir, vis_dir, vis_data_dir,\n",
    "                                          start_frame, end_frame, tracking_interval,\n",
    "                                          show_tif=True, tif_colors=['deep sky blue','tomato'], threshold_level='', \n",
    "                                          use_chimerax_skeleton=True, skeleton_colors=['blue','red'])"
   ]
  },
  {
   "cell_type": "markdown",
   "id": "6f10b5d5",
   "metadata": {},
   "source": [
    "# Detect Remodeling Events\n",
    "**In this section we will detect nodes that undergo fusion or fission events based on the tracking results.**\n",
    "\n",
    "This is done using a sliding-window approach to identify nodes that undergo persistent structural changes as opposed to transient segmentation differences.  \n",
    "First, the fragment indices for each node are recorded for the `half_win_size` frames before and after the current frame, to form the fragment list.  \n",
    "Second, for each network edge, the fragment lists for the connected nodes are compared.  \n",
    "Finally, Fission will be declared if the fragment lists before the current frame are strictly identical, as well as the fragment lists after the current frame are strictly non-overlapping. \n",
    "Since fusion events can be considered as fission events reversed in time, the opposite criterion is used for fusion detection.\n",
    "\n",
    "Note because of the sliding window approach:\n",
    "`start_frame` must be >= `half_win_size` and `end_frame` must be <= total number of frames - `half_win_size`\n",
    "\n",
    "Please specify:\n",
    "\n",
    "- `stride_size`: step size for sliding the window in number of frames. Default to 1 (to detect events happening in every frame).\n",
    "\n",
    "- `half_win_size`: size of the half sliding window in number of frames. The higher the value the stricter the requirement for calling fusion/fission. Default to 4.\n",
    "\n",
    "- `min_tracked_frames`: minimum number of frames that are tracked in both half window in order to declare an event. Default to 2."
   ]
  },
  {
   "cell_type": "code",
   "execution_count": null,
   "id": "e7720eb2",
   "metadata": {},
   "outputs": [],
   "source": [
    "detect_fusion_fission.detect(input_dir, output_dir, start_frame=4, end_frame=17,\n",
    "                             stride_size=1,\n",
    "                             half_win_size=4,\n",
    "                             min_tracked_frames=2)"
   ]
  },
  {
   "cell_type": "markdown",
   "id": "10358cc3",
   "metadata": {},
   "source": [
    "The remodeling events are saved under `tracking_output/remodeling_events.csv`  \n",
    "Multiple remodeling nodes located in proximity (less than 5 edges away) are grouped into a single fission/fusion site.\n",
    "Columns in the output:\n",
    "\n",
    "- `type`: fusion or fission\n",
    "\n",
    "- `frame_id`: a single frame number for describing when the event happens\n",
    "\n",
    "- `frame_id_before`: the frame numbers before the event for each detected node (may be different due to gap closing)\n",
    "\n",
    "- `frame_id_after`: the frame numbers after the event for each detected node (may be different due to gap closing)\n",
    "\n",
    "- `node_id_before`: the `frame_node_id` at corresponding frame before the event for each detected node\n",
    "\n",
    "- `node_id_after`: the `frame_node_id` at corresponding frame after the event for each detected node\n",
    "\n",
    "- `frag_id_before`: the `frame_frag_id` at corresponding frame before the event for each detected node\n",
    "\n",
    "- `frag_id_after`: the `frame_frag_id` at corresponding frame after the event for each detected node\n",
    "\n",
    "- `unique_node_id`: the `unique_node_id` for each detected node\n",
    "\n",
    "`frame_node_id`, `frame_frag_id`, `unique_node_id` are as defined in the node tracking outputs\n"
   ]
  },
  {
   "cell_type": "markdown",
   "id": "d58f7953",
   "metadata": {},
   "source": [
    "# Post Analysis\n",
    "## Motility Measurements\n",
    "**In this section we will use the tracking results to compute diffusivity at three levels of description and visualize motility in space.**\n",
    "\n",
    "The diffusision coeffients can be computed for 1) nodes, 2) segments, 3) fragments, in the order of higher level of coarse graining.  \n",
    "\n",
    "We need to specify the directory for save post analysis results:\n",
    "\n",
    "- `analysis_dir`: umbrella directory for post analysis. A good choice is `work_dir+'post_analysis/'`. \n",
    "\n",
    "- `analy_motility_dir`: directory for saving motility measurements. This is usually a subfolder in `analysis_dir`, for example `analysis_dir+'motility/'`.  "
   ]
  },
  {
   "cell_type": "code",
   "execution_count": 10,
   "id": "97f56b2c",
   "metadata": {},
   "outputs": [],
   "source": [
    "# specify directories\n",
    "analysis_dir = work_dir+'post_analysis/'\n",
    "analy_motility_dir = analysis_dir+'motility/'\n",
    "if not os.path.isdir(analysis_dir):\n",
    "    os.mkdir(analysis_dir)\n",
    "if not os.path.isdir(analy_motility_dir):\n",
    "    os.mkdir(analy_motility_dir)"
   ]
  },
  {
   "cell_type": "markdown",
   "id": "c92e1083",
   "metadata": {},
   "source": [
    "Information needed for computing MSD vs. time delay curve:\n",
    "\n",
    "- `max_tau`: maximum number of frames/datapoints used for linear regression. Default to 5.\n",
    "\n",
    "Additional information for computing segment and fragment level diffusivity:\n",
    "\n",
    "- `selected_frames`: because segment and fragments undergo constant remodeling, we need to select the frames at which the segment and fragments are evaluated. This is recommended to be separated by 2x half window size (see below). Each frame will be visualized separately.\n",
    "\n",
    "- `half_win_size `: the time window size (frames) before and after the selected center frames for collecting track coordinates. Default to 10.\n",
    "\n",
    "- `tracked_ratio`: the minimum ratio of tracked nodes in each segment/fragment to be qualified for calculating diffusivity. Default to 0.5. "
   ]
  },
  {
   "cell_type": "markdown",
   "id": "9b34e7bb",
   "metadata": {},
   "source": [
    "### node diffusivity"
   ]
  },
  {
   "cell_type": "code",
   "execution_count": 11,
   "id": "ce46f0af",
   "metadata": {},
   "outputs": [
    {
     "name": "stdout",
     "output_type": "stream",
     "text": [
      "Computing MSD for tracks ...\n"
     ]
    },
    {
     "data": {
      "application/vnd.jupyter.widget-view+json": {
       "model_id": "a5d51695f30348768276cb34956e1ddc",
       "version_major": 2,
       "version_minor": 0
      },
      "text/plain": [
       "  0%|          | 0/2531 [00:00<?, ?it/s]"
      ]
     },
     "metadata": {},
     "output_type": "display_data"
    },
    {
     "name": "stdout",
     "output_type": "stream",
     "text": [
      "Fitting linear curve and computing diffusion coefficient ...\n"
     ]
    },
    {
     "data": {
      "application/vnd.jupyter.widget-view+json": {
       "model_id": "ada198c32f6f4fc4a404e881d23381c6",
       "version_major": 2,
       "version_minor": 0
      },
      "text/plain": [
       "  0%|          | 0/2531 [00:00<?, ?it/s]"
      ]
     },
     "metadata": {},
     "output_type": "display_data"
    },
    {
     "name": "stdout",
     "output_type": "stream",
     "text": [
      "Data saved at D:/Github/MitoTNT/test_data/post_analysis/motility/node_diffusivity.csv\n"
     ]
    }
   ],
   "source": [
    "post_analysis.compute_node_diffusivity(input_dir, output_dir, analy_motility_dir, frame_interval, max_tau=5)"
   ]
  },
  {
   "cell_type": "markdown",
   "id": "7e0d34b7",
   "metadata": {},
   "source": [
    "### segment diffusivity"
   ]
  },
  {
   "cell_type": "code",
   "execution_count": null,
   "id": "7cf484f4",
   "metadata": {
    "scrolled": false
   },
   "outputs": [],
   "source": [
    "post_analysis.compute_segment_diffusivity(input_dir, output_dir, analy_motility_dir,\n",
    "                                          frame_interval, max_tau=5, tracked_ratio=0.3, half_win_size=10, selected_frames=[10])"
   ]
  },
  {
   "cell_type": "markdown",
   "id": "4819fd13",
   "metadata": {},
   "source": [
    "### fragment diffusivity"
   ]
  },
  {
   "cell_type": "code",
   "execution_count": null,
   "id": "dd56a6f5",
   "metadata": {},
   "outputs": [],
   "source": [
    "post_analysis.compute_fragment_diffusivity(input_dir, output_dir, analy_motility_dir,\n",
    "                                           frame_interval, max_tau=5, tracked_ratio=0.3, half_win_size=10, selected_frames=[10])"
   ]
  },
  {
   "cell_type": "markdown",
   "id": "07a3f684",
   "metadata": {},
   "source": [
    "The data is saved in `analy_motility_dir/*diffusivity.csv` files. Each row is a node/segment/fragment. The columns are explained below.\n",
    "### Columns\n",
    "\n",
    " - `center_frame_id`: selected frame for determining the segment/fragment diffusivity. N/A for node diffusivity.\n",
    " \n",
    " - `unique_node_id` as in `final_node_tracks.csv`. `seg_id`, `frag_id` are specific to `center_frame_id`.\n",
    "\n",
    " - `diffusivity`: slope of MSD vs. time delay curve divided by 6 to account for 3D random walk.\n",
    "\n",
    " - `msd`: MSD per frame, euqal to 6 x diffusivity x frame interval\n",
    "\n",
    " - `r_squared`: coefficient of determination for the linear regression.\n",
    "\n",
    " - `num_points`: number of points in MSD vs. time delay curve used for linear regression."
   ]
  },
  {
   "cell_type": "markdown",
   "id": "4675da83",
   "metadata": {},
   "source": [
    "## Visualize motility\n",
    "**In this section we will color the mitochondrial network by the local motility, again at three levels.**"
   ]
  },
  {
   "cell_type": "code",
   "execution_count": 12,
   "id": "553fe4d7",
   "metadata": {},
   "outputs": [
    {
     "name": "stdout",
     "output_type": "stream",
     "text": [
      "1074 nodes are mapped out of total 1719 nodes\n",
      "\n",
      "Load file D:/Github/MitoTNT/test_data/post_analysis/motility/map_node_motility_frame_10.bild \n",
      "in ChimeraX to visualize motility map\n"
     ]
    }
   ],
   "source": [
    "post_analysis.map_node_motility_onto_surface(input_dir, output_dir, analy_motility_dir,\n",
    "                                             node_size=0.2, selected_frames=[10])"
   ]
  },
  {
   "cell_type": "code",
   "execution_count": null,
   "id": "b56903d2",
   "metadata": {},
   "outputs": [],
   "source": [
    "post_analysis.map_segment_motility_onto_surface(input_dir, output_dir, analy_motility_dir,\n",
    "                                                node_size=0.2, selected_frames=[10])"
   ]
  },
  {
   "cell_type": "code",
   "execution_count": null,
   "id": "ca3be503",
   "metadata": {},
   "outputs": [],
   "source": [
    "post_analysis.map_fragment_motility_onto_surface(input_dir, output_dir, analy_motility_dir,\n",
    "                                                 node_size=0.2, selected_frames=[10])"
   ]
  }
 ],
 "metadata": {
  "kernelspec": {
   "display_name": "Python 3 (ipykernel)",
   "language": "python",
   "name": "python3"
  },
  "language_info": {
   "codemirror_mode": {
    "name": "ipython",
    "version": 3
   },
   "file_extension": ".py",
   "mimetype": "text/x-python",
   "name": "python",
   "nbconvert_exporter": "python",
   "pygments_lexer": "ipython3",
   "version": "3.8.11"
  }
 },
 "nbformat": 4,
 "nbformat_minor": 5
}
